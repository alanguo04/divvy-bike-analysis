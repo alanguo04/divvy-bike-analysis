{
 "cells": [
  {
   "cell_type": "code",
   "execution_count": 1,
   "id": "18aa3a90",
   "metadata": {},
   "outputs": [],
   "source": [
    "import pandas as pd\n",
    "import numpy as np\n",
    "import seaborn as sns"
   ]
  },
  {
   "cell_type": "code",
   "execution_count": 2,
   "id": "dc3eb205",
   "metadata": {},
   "outputs": [],
   "source": [
    "import pandas as pd\n",
    "colnames = ['start_time',\n",
    "'end_time',\n",
    "'trip_duration',\n",
    "'start_station_id',\n",
    "'start_station_name',\n",
    "'end_station_id',\n",
    "'end_station_name',\n",
    "'usertype',\n",
    "'gender',\n",
    "'start_lat',\n",
    "'start_lng',\n",
    "'end_lat',\n",
    "'end_lng',\n",
    "'rideable_type',\n",
    "'start_city',\n",
    "'start_landmark',\n",
    "'end_city',\n",
    "'end_landmark',\n",
    "'start_date',\n",
    "'end_date',\n",
    "'start_dpcapacity',\n",
    "'end_dpcapacity',\n",
    "'age',\n",
    "'st_hour',\n",
    "'st_minute',\n",
    "'st_second',\n",
    "'ed_hour',\n",
    "'ed_minute',\n",
    "'ed_second',\n",
    "'st_year',\n",
    "'st_month',\n",
    "'st_day',\n",
    "'ed_year',\n",
    "'ed_month',\n",
    "'ed_day']\n",
    "d1 = pd.read_csv('1.csv',names=colnames)\n",
    "d2 = pd.read_csv('2.csv',names=colnames)\n",
    "d3 = pd.read_csv('3.csv',names=colnames)\n",
    "d4 = pd.read_csv('4.csv',names=colnames)\n",
    "d5 = pd.read_csv('5.csv',names=colnames)\n",
    "d6 = pd.read_csv('6.csv',names=colnames)\n",
    "d7 = pd.read_csv('7.csv',names=colnames)\n",
    "d8 = pd.read_csv('8.csv',names=colnames)\n",
    "d9 = pd.read_csv('9.csv',names=colnames)"
   ]
  },
  {
   "cell_type": "code",
   "execution_count": 3,
   "id": "2a2c686f",
   "metadata": {},
   "outputs": [],
   "source": [
    "divvy = pd.concat([d1,d2,d3,d4,d5,d6,d7,d8,d9])"
   ]
  },
  {
   "cell_type": "code",
   "execution_count": 4,
   "id": "b4a66408",
   "metadata": {},
   "outputs": [],
   "source": [
    "new_col = ['start_time',\n",
    "'trip_duration',\n",
    "'start_station_name',\n",
    "'end_station_name',\n",
    "'usertype',\n",
    "'gender',\n",
    "'start_lat',\n",
    "'start_lng',\n",
    "'start_city',\n",
    "'start_date',\n",
    "'start_dpcapacity',\n",
    "'end_dpcapacity',\n",
    "'age',\n",
    "'st_hour',\n",
    "'st_year',\n",
    "'st_month',]"
   ]
  },
  {
   "cell_type": "code",
   "execution_count": 5,
   "id": "d08c230a",
   "metadata": {},
   "outputs": [],
   "source": [
    "divvy = divvy.loc[::100]"
   ]
  },
  {
   "cell_type": "code",
   "execution_count": 6,
   "id": "91d180c7",
   "metadata": {},
   "outputs": [],
   "source": [
    "divvy = divvy.loc[:,new_col]"
   ]
  },
  {
   "cell_type": "code",
   "execution_count": 7,
   "id": "fd0a28d7",
   "metadata": {},
   "outputs": [
    {
     "data": {
      "text/html": [
       "<div>\n",
       "<style scoped>\n",
       "    .dataframe tbody tr th:only-of-type {\n",
       "        vertical-align: middle;\n",
       "    }\n",
       "\n",
       "    .dataframe tbody tr th {\n",
       "        vertical-align: top;\n",
       "    }\n",
       "\n",
       "    .dataframe thead th {\n",
       "        text-align: right;\n",
       "    }\n",
       "</style>\n",
       "<table border=\"1\" class=\"dataframe\">\n",
       "  <thead>\n",
       "    <tr style=\"text-align: right;\">\n",
       "      <th></th>\n",
       "      <th>trip_duration</th>\n",
       "      <th>start_lat</th>\n",
       "      <th>start_lng</th>\n",
       "      <th>start_city</th>\n",
       "      <th>start_dpcapacity</th>\n",
       "      <th>end_dpcapacity</th>\n",
       "      <th>st_hour</th>\n",
       "      <th>st_year</th>\n",
       "      <th>st_month</th>\n",
       "    </tr>\n",
       "  </thead>\n",
       "  <tbody>\n",
       "    <tr>\n",
       "      <th>count</th>\n",
       "      <td>51264.000000</td>\n",
       "      <td>51264.000000</td>\n",
       "      <td>51264.000000</td>\n",
       "      <td>51264.000000</td>\n",
       "      <td>51264.000000</td>\n",
       "      <td>51264.000000</td>\n",
       "      <td>51264.000000</td>\n",
       "      <td>51264.000000</td>\n",
       "      <td>51264.000000</td>\n",
       "    </tr>\n",
       "    <tr>\n",
       "      <th>mean</th>\n",
       "      <td>961.574575</td>\n",
       "      <td>41.901997</td>\n",
       "      <td>-87.644443</td>\n",
       "      <td>0.006886</td>\n",
       "      <td>21.342170</td>\n",
       "      <td>21.151217</td>\n",
       "      <td>14.184886</td>\n",
       "      <td>2021.773018</td>\n",
       "      <td>7.494187</td>\n",
       "    </tr>\n",
       "    <tr>\n",
       "      <th>std</th>\n",
       "      <td>1070.372407</td>\n",
       "      <td>0.042269</td>\n",
       "      <td>0.024443</td>\n",
       "      <td>0.088617</td>\n",
       "      <td>10.021105</td>\n",
       "      <td>9.907716</td>\n",
       "      <td>4.967066</td>\n",
       "      <td>0.418885</td>\n",
       "      <td>2.522258</td>\n",
       "    </tr>\n",
       "    <tr>\n",
       "      <th>min</th>\n",
       "      <td>1.000000</td>\n",
       "      <td>41.648501</td>\n",
       "      <td>-87.820000</td>\n",
       "      <td>0.000000</td>\n",
       "      <td>0.000000</td>\n",
       "      <td>0.000000</td>\n",
       "      <td>0.000000</td>\n",
       "      <td>2021.000000</td>\n",
       "      <td>1.000000</td>\n",
       "    </tr>\n",
       "    <tr>\n",
       "      <th>25%</th>\n",
       "      <td>367.000000</td>\n",
       "      <td>41.881320</td>\n",
       "      <td>-87.657030</td>\n",
       "      <td>0.000000</td>\n",
       "      <td>15.000000</td>\n",
       "      <td>15.000000</td>\n",
       "      <td>11.000000</td>\n",
       "      <td>2022.000000</td>\n",
       "      <td>6.000000</td>\n",
       "    </tr>\n",
       "    <tr>\n",
       "      <th>50%</th>\n",
       "      <td>641.000000</td>\n",
       "      <td>41.896847</td>\n",
       "      <td>-87.641697</td>\n",
       "      <td>0.000000</td>\n",
       "      <td>19.000000</td>\n",
       "      <td>19.000000</td>\n",
       "      <td>15.000000</td>\n",
       "      <td>2022.000000</td>\n",
       "      <td>8.000000</td>\n",
       "    </tr>\n",
       "    <tr>\n",
       "      <th>75%</th>\n",
       "      <td>1136.000000</td>\n",
       "      <td>41.928712</td>\n",
       "      <td>-87.628579</td>\n",
       "      <td>0.000000</td>\n",
       "      <td>25.000000</td>\n",
       "      <td>25.000000</td>\n",
       "      <td>18.000000</td>\n",
       "      <td>2022.000000</td>\n",
       "      <td>10.000000</td>\n",
       "    </tr>\n",
       "    <tr>\n",
       "      <th>max</th>\n",
       "      <td>10750.000000</td>\n",
       "      <td>42.064854</td>\n",
       "      <td>-87.528232</td>\n",
       "      <td>2.000000</td>\n",
       "      <td>55.000000</td>\n",
       "      <td>55.000000</td>\n",
       "      <td>23.000000</td>\n",
       "      <td>2022.000000</td>\n",
       "      <td>12.000000</td>\n",
       "    </tr>\n",
       "  </tbody>\n",
       "</table>\n",
       "</div>"
      ],
      "text/plain": [
       "       trip_duration     start_lat     start_lng    start_city  \\\n",
       "count   51264.000000  51264.000000  51264.000000  51264.000000   \n",
       "mean      961.574575     41.901997    -87.644443      0.006886   \n",
       "std      1070.372407      0.042269      0.024443      0.088617   \n",
       "min         1.000000     41.648501    -87.820000      0.000000   \n",
       "25%       367.000000     41.881320    -87.657030      0.000000   \n",
       "50%       641.000000     41.896847    -87.641697      0.000000   \n",
       "75%      1136.000000     41.928712    -87.628579      0.000000   \n",
       "max     10750.000000     42.064854    -87.528232      2.000000   \n",
       "\n",
       "       start_dpcapacity  end_dpcapacity       st_hour       st_year  \\\n",
       "count      51264.000000    51264.000000  51264.000000  51264.000000   \n",
       "mean          21.342170       21.151217     14.184886   2021.773018   \n",
       "std           10.021105        9.907716      4.967066      0.418885   \n",
       "min            0.000000        0.000000      0.000000   2021.000000   \n",
       "25%           15.000000       15.000000     11.000000   2022.000000   \n",
       "50%           19.000000       19.000000     15.000000   2022.000000   \n",
       "75%           25.000000       25.000000     18.000000   2022.000000   \n",
       "max           55.000000       55.000000     23.000000   2022.000000   \n",
       "\n",
       "           st_month  \n",
       "count  51264.000000  \n",
       "mean       7.494187  \n",
       "std        2.522258  \n",
       "min        1.000000  \n",
       "25%        6.000000  \n",
       "50%        8.000000  \n",
       "75%       10.000000  \n",
       "max       12.000000  "
      ]
     },
     "execution_count": 7,
     "metadata": {},
     "output_type": "execute_result"
    }
   ],
   "source": [
    "divvy.drop([\"usertype\",\"gender\",\"age\"], axis=1).describe() # continuous variables"
   ]
  },
  {
   "cell_type": "code",
   "execution_count": 8,
   "id": "af3f360a",
   "metadata": {},
   "outputs": [
    {
     "data": {
      "text/plain": [
       "count    51264.0\n",
       "mean        -1.0\n",
       "std          0.0\n",
       "min         -1.0\n",
       "25%         -1.0\n",
       "50%         -1.0\n",
       "75%         -1.0\n",
       "max         -1.0\n",
       "Name: age, dtype: float64"
      ]
     },
     "execution_count": 8,
     "metadata": {},
     "output_type": "execute_result"
    }
   ],
   "source": [
    "divvy[\"age\"].describe() # continuous but aaron's data"
   ]
  },
  {
   "cell_type": "code",
   "execution_count": 9,
   "id": "3d988e96",
   "metadata": {},
   "outputs": [
    {
     "data": {
      "text/plain": [
       "usertype    2\n",
       "gender      1\n",
       "dtype: int64"
      ]
     },
     "execution_count": 9,
     "metadata": {},
     "output_type": "execute_result"
    }
   ],
   "source": [
    "divvy.loc[:,[\"usertype\",\"gender\"]].nunique() # arron's data"
   ]
  },
  {
   "cell_type": "code",
   "execution_count": 10,
   "id": "19b62c71",
   "metadata": {},
   "outputs": [
    {
     "data": {
      "image/png": "[encoded data removed]",
      "text/plain": [
       "<Figure size 560x800 with 1 Axes>"
      ]
     },
     "metadata": {},
     "output_type": "display_data"
    }
   ],
   "source": [
    "import matplotlib.pyplot as plt\n",
    "\n",
    "def sensor_viz():\n",
    "    img = plt.imread(\"chicago.jpg\")\n",
    "    fig,ax = plt.subplots(figsize=(10,100),dpi = 80)\n",
    "    fig.set_size_inches(7,10)\n",
    "    ax.imshow(img,extent=[-88.02,-87.34,41.58,42.1],alpha = 0.4)\n",
    "    plt.scatter(x = divvy['start_lng'],y=divvy['start_lat'],s=3)\n",
    "    plt.xlim(-88,-87.5)\n",
    "    plt.ylim(41.6,42.1)\n",
    "    plt.xlabel(\"Longitude\")\n",
    "    plt.ylabel(\"Latitude\")\n",
    "sensor_viz()"
   ]
  },
  {
   "cell_type": "code",
   "execution_count": 11,
   "id": "459e64da",
   "metadata": {},
   "outputs": [
    {
     "data": {
      "image/png": "[encoded data removed]",
      "text/plain": [
       "<Figure size 560x800 with 1 Axes>"
      ]
     },
     "metadata": {},
     "output_type": "display_data"
    }
   ],
   "source": [
    "heatmap, xedges, yedges = np.histogram2d(divvy['start_lng'], divvy['start_lat'], bins=(40, 40))\n",
    "extent = [xedges[0], xedges[-1], yedges[0], yedges[-1]]\n",
    "def sensor_viz():\n",
    "    img = plt.imread(\"chicago.jpg\")\n",
    "    fig,ax = plt.subplots(figsize=(10,100),dpi = 80)\n",
    "    fig.set_size_inches(7,10)\n",
    "    ax.imshow(img,extent=[-88.02,-87.34,41.58,42.1])\n",
    "    plt.xlim(-87.8,-87.527)\n",
    "    plt.ylim(41.655,42.067)\n",
    "    plt.xlabel(\"Longitude\")\n",
    "    plt.ylabel(\"Latitude\")\n",
    "    plt.imshow(heatmap.T, extent=extent, origin='lower', cmap='viridis', alpha=0.7)\n",
    "sensor_viz()"
   ]
  },
  {
   "cell_type": "code",
   "execution_count": 12,
   "id": "84b1f79f",
   "metadata": {},
   "outputs": [],
   "source": [
    "import numpy as np\n",
    "step = 0.01\n",
    "to_bin = lambda x: np.floor(x / step) * step\n",
    "divvy[\"latlon\"] = tuple(zip(to_bin(divvy.start_lat),to_bin(divvy.start_lng)))"
   ]
  },
  {
   "cell_type": "code",
   "execution_count": 13,
   "id": "864e336c",
   "metadata": {},
   "outputs": [],
   "source": [
    "data = divvy.groupby('latlon')['trip_duration'].mean()"
   ]
  },
  {
   "cell_type": "code",
   "execution_count": 21,
   "id": "8000bbf6",
   "metadata": {},
   "outputs": [
    {
     "data": {
      "text/plain": [
       "array([1507.        , 2667.        , 1508.        , 3095.        ,\n",
       "        205.5       , 2814.        , 2401.66666667,   29.        ,\n",
       "       4520.        , 1885.        ,  828.66666667,  894.        ,\n",
       "       1269.        , 1587.        , 1064.5       ,  153.        ,\n",
       "       1173.5       , 1758.8       , 1955.        ,   56.        ,\n",
       "       1306.        ,  716.        ,  415.        ,   27.        ,\n",
       "       3743.5       , 1288.        ,  826.        , 1375.        ,\n",
       "        399.        , 1087.83333333, 2937.5       ,   18.        ,\n",
       "        518.        ,  691.        , 1489.        , 2427.        ,\n",
       "        680.55555556, 2910.        , 1646.        ,  244.        ,\n",
       "        304.        ,  677.42857143, 1139.        ,  615.16666667,\n",
       "       1296.        ,  678.        , 1045.33333333, 1982.        ,\n",
       "        735.        , 1262.        ,  305.        ,  752.5       ,\n",
       "        292.        ,  736.        , 1996.5       ,  153.        ,\n",
       "        867.16666667, 1437.4       ,  912.        , 2939.25      ,\n",
       "        905.        , 1268.5       , 1975.6       ,  660.        ,\n",
       "       1278.5       , 1170.6       ,  984.        ,  247.        ,\n",
       "        854.5       ,  512.        , 1013.        ,  599.        ,\n",
       "        628.4       , 1050.2       , 1152.        , 1209.        ,\n",
       "        902.        ,  244.        ,  319.4       ,  350.33333333,\n",
       "       1168.        , 1082.71428571, 1991.57142857, 2220.125     ,\n",
       "       1129.        , 2059.        ,  788.        ,  239.        ,\n",
       "        650.        ,  788.        ,  556.        , 1160.2       ,\n",
       "       1975.63636364,  525.93472585,  979.77777778,  855.19354839,\n",
       "       2541.75      , 2499.        ,   16.        , 6163.        ,\n",
       "        613.33333333,  346.5       , 5984.        , 1019.33333333,\n",
       "        209.        , 1120.4       ,  885.66666667,  898.08695652,\n",
       "        559.23426573,  691.8540856 , 1549.0968661 ,  388.25      ,\n",
       "       1362.5       ,  414.42857143,  696.        , 1598.2       ,\n",
       "       1029.4       ,  234.        , 1326.25      ,  584.22222222,\n",
       "       1039.84615385, 1241.65714286, 1246.76190476, 1216.17894737,\n",
       "       1044.75      ,  306.75      ,  286.        , 1175.        ,\n",
       "       1208.        ,  443.5       , 1469.4       , 3020.5       ,\n",
       "        971.07692308, 1274.7       , 1597.3       ,  968.66666667,\n",
       "         11.        , 1671.17391304, 1361.6       ,    7.        ,\n",
       "       1029.        ,  674.        ,  377.4       , 1276.42857143,\n",
       "       1638.6875    ,  486.        ,  795.23076923,  851.71428571,\n",
       "        963.31914894,  813.64137931,  640.29787234,  604.79835391,\n",
       "        851.62650602, 2025.30534351, 1356.6       , 1713.6       ,\n",
       "       1071.        ,  809.95238095, 1045.5       , 1140.5       ,\n",
       "        883.25      ,  883.12307692,  623.08571429, 1484.02631579,\n",
       "        787.91818182, 1141.        ,  949.15384615, 4123.        ,\n",
       "        796.8       ,  982.79166667, 1110.3125    ,  899.08783784,\n",
       "        843.80136986,  835.33      , 1183.09146341, 1199.296875  ,\n",
       "       1531.5631068 , 1391.        , 1367.        , 1155.17391304,\n",
       "        876.56338028,  802.74324324,  705.35      ,  691.50882353,\n",
       "        712.92105263,  775.39473684, 1134.60165975, 1690.99186992,\n",
       "       1654.62105263,  348.        ,  848.4       , 1081.4       ,\n",
       "       1388.        , 1220.5       ,  503.5       ,  753.32075472,\n",
       "        791.15254237,  734.76470588,  674.03655352,  708.74974147,\n",
       "        819.59151786, 1245.24492863, 1634.1       , 1181.        ,\n",
       "        345.        , 1080.66666667,  948.        ,  798.33333333,\n",
       "       1713.66666667,  893.71428571,  753.8       ,  808.7804878 ,\n",
       "        903.75806452,  774.40131579,  828.9793956 ,  724.72225519,\n",
       "        759.40167364, 1264.3854615 , 1551.98214286, 3340.        ,\n",
       "       1094.14285714,  308.        ,  665.5       , 1033.81818182,\n",
       "       1509.        ,  987.82575758,  799.04385965,  770.04804805,\n",
       "        727.63112392,  595.98767123,  749.91053561, 1062.64483431,\n",
       "       1502.25829538,  650.        , 1880.        , 1469.28571429,\n",
       "        957.75925926,  894.46153846,  881.34351145,  901.11271676,\n",
       "        794.79841897,  543.4       ,  759.94911937,  788.58389262,\n",
       "       1411.91666667, 1183.66666667, 1001.        , 1768.        ,\n",
       "        282.        ,  947.33333333, 4521.        , 1222.09090909,\n",
       "        910.38383838,  867.7202381 ,  886.50118765,  930.42285714,\n",
       "       1007.65566038,  753.83067093,  751.13711911,  889.59927007,\n",
       "       1544.87723785, 1634.5       , 1420.        ,  260.        ,\n",
       "        549.66666667,  213.6       ,  487.6       , 1361.57894737,\n",
       "        791.13333333, 1087.9273743 ,  881.37168142,  804.21      ,\n",
       "        841.3245614 ,  796.98559671,  660.06659267,  772.29170639,\n",
       "       1246.24847251,  864.66666667,  405.6       ,  758.        ,\n",
       "       1111.5       ,  500.        , 1041.5       , 1366.80487805,\n",
       "        958.07407407,  860.6       , 1033.94117647,  853.25490196,\n",
       "        866.74025974,  728.99344978,  764.2672751 ,  809.34431818,\n",
       "       1203.97767857, 1402.        ,  343.2       ,  845.        ,\n",
       "        481.5       , 1087.2       ,  863.75      , 1119.44117647,\n",
       "       1374.85714286,  911.20512821,  914.8875    ,  878.66431095,\n",
       "        768.68623025,  812.9868594 ,  878.60892857, 1354.46382979,\n",
       "        892.8       ,   98.        ,  234.5       , 2455.5       ,\n",
       "       1094.        , 1097.47368421, 1010.        ,  994.73333333,\n",
       "       1255.07142857, 1115.57894737, 1010.23595506,  943.96590909,\n",
       "        628.81140351,  690.30896226,  936.4822547 ,  997.14285714,\n",
       "       1236.42857143, 2100.5       , 1386.53125   , 1167.3       ,\n",
       "        976.63522013,  909.67816092,  750.56034483,  818.36158192,\n",
       "        902.74798387, 1228.45798319, 1720.94495413, 1062.54545455,\n",
       "       1230.84782609,  710.5       ,  699.2173913 ,  988.45991561,\n",
       "       1098.43959732,  999.        , 1628.        ,  793.21428571,\n",
       "        280.6       , 1098.79352227, 1848.94444444, 4475.        ,\n",
       "       1672.33333333,  864.65217391,  972.54285714, 1328.65048544,\n",
       "       1018.61111111, 1081.55      ,  711.32142857, 1150.10769231,\n",
       "        717.4       , 1148.85185185,  764.06976744,  896.6372549 ,\n",
       "       1186.77777778,  859.91666667, 1153.        ,  895.64      ,\n",
       "        877.375     , 1439.38888889, 1082.41666667, 1111.93251534,\n",
       "        883.25      , 1424.91666667, 1632.07692308])"
      ]
     },
     "execution_count": 21,
     "metadata": {},
     "output_type": "execute_result"
    }
   ],
   "source": [
    "data.values"
   ]
  },
  {
   "cell_type": "code",
   "execution_count": null,
   "id": "2511d069",
   "metadata": {},
   "outputs": [],
   "source": []
  },
  {
   "cell_type": "code",
   "execution_count": 25,
   "id": "f34a3399",
   "metadata": {},
   "outputs": [
    {
     "data": {
      "application/vnd.plotly.v1+json": {
       "config": {
        "plotlyServerURL": "https://plot.ly"
       },
       "data": [
        {
         "coloraxis": "coloraxis",
         "hovertemplate": "z=%{z}<br>lat=%{lat}<br>lon=%{lon}<extra></extra>",
         "lat": [
          41.64,
          41.65,
          41.65,
          41.65,
          41.68,
          41.68,
          41.68,
          41.68,
          41.69,
          41.69,
          41.69,
          41.69,
          41.69,
          41.69,
          41.69,
          41.69,
          41.69,
          41.69,
          41.7,
          41.7,
          41.7,
          41.7,
          41.7,
          41.7,
          41.7,
          41.71,
          41.71,
          41.71,
          41.71,
          41.71,
          41.71,
          41.71,
          41.71,
          41.71,
          41.72,
          41.72,
          41.72,
          41.72,
          41.72,
          41.730000000000004,
          41.730000000000004,
          41.730000000000004,
          41.730000000000004,
          41.730000000000004,
          41.730000000000004,
          41.730000000000004,
          41.74,
          41.74,
          41.74,
          41.74,
          41.74,
          41.74,
          41.74,
          41.74,
          41.75,
          41.75,
          41.75,
          41.75,
          41.75,
          41.75,
          41.75,
          41.75,
          41.75,
          41.75,
          41.75,
          41.76,
          41.76,
          41.76,
          41.76,
          41.76,
          41.76,
          41.76,
          41.76,
          41.76,
          41.76,
          41.77,
          41.77,
          41.77,
          41.77,
          41.77,
          41.77,
          41.77,
          41.77,
          41.77,
          41.78,
          41.78,
          41.78,
          41.78,
          41.78,
          41.78,
          41.78,
          41.78,
          41.78,
          41.78,
          41.78,
          41.78,
          41.78,
          41.78,
          41.79,
          41.79,
          41.79,
          41.79,
          41.79,
          41.79,
          41.79,
          41.79,
          41.79,
          41.79,
          41.79,
          41.79,
          41.79,
          41.800000000000004,
          41.800000000000004,
          41.800000000000004,
          41.800000000000004,
          41.800000000000004,
          41.800000000000004,
          41.800000000000004,
          41.800000000000004,
          41.800000000000004,
          41.800000000000004,
          41.800000000000004,
          41.800000000000004,
          41.800000000000004,
          41.800000000000004,
          41.81,
          41.81,
          41.81,
          41.81,
          41.81,
          41.81,
          41.81,
          41.81,
          41.81,
          41.81,
          41.82,
          41.82,
          41.82,
          41.82,
          41.82,
          41.82,
          41.82,
          41.82,
          41.82,
          41.82,
          41.83,
          41.83,
          41.83,
          41.83,
          41.83,
          41.83,
          41.83,
          41.83,
          41.83,
          41.84,
          41.84,
          41.84,
          41.84,
          41.84,
          41.84,
          41.84,
          41.84,
          41.84,
          41.84,
          41.84,
          41.85,
          41.85,
          41.85,
          41.85,
          41.85,
          41.85,
          41.85,
          41.85,
          41.85,
          41.85,
          41.85,
          41.85,
          41.86,
          41.86,
          41.86,
          41.86,
          41.86,
          41.86,
          41.86,
          41.86,
          41.86,
          41.86,
          41.86,
          41.86,
          41.87,
          41.87,
          41.87,
          41.87,
          41.87,
          41.87,
          41.87,
          41.87,
          41.87,
          41.87,
          41.87,
          41.87,
          41.87,
          41.88,
          41.88,
          41.88,
          41.88,
          41.88,
          41.88,
          41.88,
          41.88,
          41.88,
          41.88,
          41.88,
          41.88,
          41.88,
          41.88,
          41.88,
          41.88,
          41.88,
          41.89,
          41.89,
          41.89,
          41.89,
          41.89,
          41.89,
          41.89,
          41.89,
          41.89,
          41.89,
          41.89,
          41.89,
          41.89,
          41.89,
          41.89,
          41.9,
          41.9,
          41.9,
          41.9,
          41.9,
          41.9,
          41.9,
          41.9,
          41.9,
          41.9,
          41.9,
          41.910000000000004,
          41.910000000000004,
          41.910000000000004,
          41.910000000000004,
          41.910000000000004,
          41.910000000000004,
          41.910000000000004,
          41.910000000000004,
          41.910000000000004,
          41.910000000000004,
          41.910000000000004,
          41.910000000000004,
          41.910000000000004,
          41.910000000000004,
          41.910000000000004,
          41.910000000000004,
          41.92,
          41.92,
          41.92,
          41.92,
          41.92,
          41.92,
          41.92,
          41.92,
          41.92,
          41.92,
          41.92,
          41.92,
          41.92,
          41.92,
          41.92,
          41.92,
          41.93,
          41.93,
          41.93,
          41.93,
          41.93,
          41.93,
          41.93,
          41.93,
          41.93,
          41.93,
          41.93,
          41.93,
          41.93,
          41.93,
          41.93,
          41.93,
          41.94,
          41.94,
          41.94,
          41.94,
          41.94,
          41.94,
          41.94,
          41.94,
          41.94,
          41.94,
          41.94,
          41.94,
          41.94,
          41.94,
          41.94,
          41.95,
          41.95,
          41.95,
          41.95,
          41.95,
          41.95,
          41.95,
          41.95,
          41.95,
          41.95,
          41.95,
          41.95,
          41.95,
          41.95,
          41.95,
          41.96,
          41.96,
          41.96,
          41.96,
          41.96,
          41.96,
          41.96,
          41.96,
          41.96,
          41.96,
          41.96,
          41.96,
          41.97,
          41.97,
          41.97,
          41.97,
          41.97,
          41.97,
          41.980000000000004,
          41.980000000000004,
          41.980000000000004,
          41.980000000000004,
          41.980000000000004,
          41.980000000000004,
          41.99,
          41.99,
          41.99,
          41.99,
          41.99,
          42,
          42,
          42,
          42,
          42.01,
          42.01,
          42.01,
          42.01,
          42.02,
          42.02,
          42.03,
          42.03,
          42.04,
          42.04,
          42.050000000000004,
          42.050000000000004,
          42.06,
          42.06,
          42.06
         ],
         "lon": [
          -87.55,
          -87.62,
          -87.56,
          -87.54,
          -87.66,
          -87.62,
          -87.58,
          -87.54,
          -87.72,
          -87.71000000000001,
          -87.69,
          -87.67,
          -87.65,
          -87.64,
          -87.62,
          -87.61,
          -87.60000000000001,
          -87.54,
          -87.7,
          -87.66,
          -87.65,
          -87.62,
          -87.60000000000001,
          -87.56,
          -87.53,
          -87.72,
          -87.67,
          -87.65,
          -87.63,
          -87.61,
          -87.60000000000001,
          -87.59,
          -87.57000000000001,
          -87.54,
          -87.67,
          -87.66,
          -87.63,
          -87.62,
          -87.60000000000001,
          -87.66,
          -87.65,
          -87.63,
          -87.61,
          -87.59,
          -87.55,
          -87.54,
          -87.64,
          -87.63,
          -87.61,
          -87.60000000000001,
          -87.59,
          -87.57000000000001,
          -87.56,
          -87.53,
          -87.68,
          -87.67,
          -87.63,
          -87.62,
          -87.61,
          -87.60000000000001,
          -87.59,
          -87.58,
          -87.57000000000001,
          -87.56,
          -87.55,
          -87.66,
          -87.65,
          -87.64,
          -87.63,
          -87.62,
          -87.61,
          -87.59,
          -87.58,
          -87.57000000000001,
          -87.56,
          -87.69,
          -87.67,
          -87.66,
          -87.65,
          -87.64,
          -87.61,
          -87.59,
          -87.58,
          -87.57000000000001,
          -87.73,
          -87.72,
          -87.71000000000001,
          -87.7,
          -87.68,
          -87.66,
          -87.65,
          -87.63,
          -87.62,
          -87.61,
          -87.60000000000001,
          -87.59,
          -87.58,
          -87.57000000000001,
          -87.74,
          -87.71000000000001,
          -87.7,
          -87.69,
          -87.68,
          -87.66,
          -87.65,
          -87.64,
          -87.63,
          -87.62,
          -87.61,
          -87.60000000000001,
          -87.59,
          -87.75,
          -87.73,
          -87.72,
          -87.7,
          -87.68,
          -87.67,
          -87.66,
          -87.65,
          -87.64,
          -87.62,
          -87.61,
          -87.60000000000001,
          -87.59,
          -87.58,
          -87.73,
          -87.72,
          -87.7,
          -87.69,
          -87.67,
          -87.65,
          -87.64,
          -87.62,
          -87.61,
          -87.60000000000001,
          -87.72,
          -87.7,
          -87.69,
          -87.68,
          -87.67,
          -87.66,
          -87.65,
          -87.63,
          -87.62,
          -87.61,
          -87.69,
          -87.68,
          -87.67,
          -87.66,
          -87.65,
          -87.64,
          -87.63,
          -87.62,
          -87.61,
          -87.73,
          -87.72,
          -87.71000000000001,
          -87.7,
          -87.69,
          -87.68,
          -87.66,
          -87.65,
          -87.64,
          -87.63,
          -87.62,
          -87.73,
          -87.72,
          -87.71000000000001,
          -87.7,
          -87.69,
          -87.68,
          -87.67,
          -87.66,
          -87.65,
          -87.64,
          -87.63,
          -87.62,
          -87.72,
          -87.71000000000001,
          -87.7,
          -87.69,
          -87.68,
          -87.67,
          -87.66,
          -87.65,
          -87.64,
          -87.63,
          -87.62,
          -87.61,
          -87.77,
          -87.74,
          -87.73,
          -87.72,
          -87.71000000000001,
          -87.7,
          -87.69,
          -87.68,
          -87.67,
          -87.66,
          -87.65,
          -87.64,
          -87.63,
          -87.78,
          -87.77,
          -87.76,
          -87.75,
          -87.74,
          -87.73,
          -87.72,
          -87.71000000000001,
          -87.7,
          -87.69,
          -87.68,
          -87.67,
          -87.66,
          -87.65,
          -87.64,
          -87.63,
          -87.62,
          -87.78,
          -87.77,
          -87.76,
          -87.72,
          -87.71000000000001,
          -87.7,
          -87.69,
          -87.68,
          -87.67,
          -87.66,
          -87.65,
          -87.64,
          -87.63,
          -87.62,
          -87.61,
          -87.73,
          -87.72,
          -87.71000000000001,
          -87.7,
          -87.69,
          -87.68,
          -87.67,
          -87.66,
          -87.65,
          -87.64,
          -87.63,
          -87.81,
          -87.8,
          -87.77,
          -87.75,
          -87.74,
          -87.73,
          -87.72,
          -87.71000000000001,
          -87.7,
          -87.69,
          -87.68,
          -87.67,
          -87.66,
          -87.65,
          -87.64,
          -87.63,
          -87.8,
          -87.78,
          -87.77,
          -87.76,
          -87.75,
          -87.74,
          -87.73,
          -87.72,
          -87.71000000000001,
          -87.7,
          -87.69,
          -87.68,
          -87.67,
          -87.66,
          -87.65,
          -87.64,
          -87.8,
          -87.79,
          -87.78,
          -87.76,
          -87.75,
          -87.74,
          -87.73,
          -87.72,
          -87.71000000000001,
          -87.7,
          -87.69,
          -87.68,
          -87.67,
          -87.66,
          -87.65,
          -87.64,
          -87.82000000000001,
          -87.79,
          -87.77,
          -87.76,
          -87.75,
          -87.74,
          -87.72,
          -87.71000000000001,
          -87.7,
          -87.69,
          -87.68,
          -87.67,
          -87.66,
          -87.65,
          -87.64,
          -87.81,
          -87.79,
          -87.78,
          -87.76,
          -87.75,
          -87.74,
          -87.73,
          -87.72,
          -87.71000000000001,
          -87.7,
          -87.69,
          -87.68,
          -87.67,
          -87.66,
          -87.65,
          -87.75,
          -87.74,
          -87.73,
          -87.72,
          -87.71000000000001,
          -87.7,
          -87.69,
          -87.68,
          -87.67,
          -87.66,
          -87.65,
          -87.64,
          -87.71000000000001,
          -87.7,
          -87.69,
          -87.68,
          -87.67,
          -87.66,
          -87.72,
          -87.71000000000001,
          -87.7,
          -87.69,
          -87.67,
          -87.66,
          -87.71000000000001,
          -87.7,
          -87.69,
          -87.68,
          -87.67,
          -87.7,
          -87.69,
          -87.68,
          -87.67,
          -87.7,
          -87.69,
          -87.68,
          -87.67,
          -87.69,
          -87.67,
          -87.7,
          -87.68,
          -87.7,
          -87.69,
          -87.69,
          -87.68,
          -87.72,
          -87.7,
          -87.69
         ],
         "name": "",
         "radius": 10,
         "subplot": "mapbox",
         "type": "densitymapbox",
         "z": [
          1507,
          2667,
          1508,
          3095,
          205.5,
          2814,
          2401.6666666666665,
          29,
          4520,
          1885,
          828.6666666666666,
          894,
          1269,
          1587,
          1064.5,
          153,
          1173.5,
          1758.8,
          1955,
          56,
          1306,
          716,
          415,
          27,
          3743.5,
          1288,
          826,
          1375,
          399,
          1087.8333333333333,
          2937.5,
          18,
          518,
          691,
          1489,
          2427,
          680.5555555555555,
          2910,
          1646,
          244,
          304,
          677.4285714285714,
          1139,
          615.1666666666666,
          1296,
          678,
          1045.3333333333333,
          1982,
          735,
          1262,
          305,
          752.5,
          292,
          736,
          1996.5,
          153,
          867.1666666666666,
          1437.4,
          912,
          2939.25,
          905,
          1268.5,
          1975.6,
          660,
          1278.5,
          1170.6,
          984,
          247,
          854.5,
          512,
          1013,
          599,
          628.4,
          1050.2,
          1152,
          1209,
          902,
          244,
          319.4,
          350.3333333333333,
          1168,
          1082.7142857142858,
          1991.5714285714287,
          2220.125,
          1129,
          2059,
          788,
          239,
          650,
          788,
          556,
          1160.2,
          1975.6363636363637,
          525.934725848564,
          979.7777777777778,
          855.1935483870968,
          2541.75,
          2499,
          16,
          6163,
          613.3333333333334,
          346.5,
          5984,
          1019.3333333333334,
          209,
          1120.4,
          885.6666666666666,
          898.0869565217391,
          559.2342657342657,
          691.8540856031128,
          1549.096866096866,
          388.25,
          1362.5,
          414.42857142857144,
          696,
          1598.2,
          1029.4,
          234,
          1326.25,
          584.2222222222222,
          1039.8461538461538,
          1241.6571428571428,
          1246.7619047619048,
          1216.178947368421,
          1044.75,
          306.75,
          286,
          1175,
          1208,
          443.5,
          1469.4,
          3020.5,
          971.0769230769231,
          1274.7,
          1597.3,
          968.6666666666666,
          11,
          1671.1739130434783,
          1361.6,
          7,
          1029,
          674,
          377.4,
          1276.4285714285713,
          1638.6875,
          486,
          795.2307692307693,
          851.7142857142857,
          963.3191489361702,
          813.6413793103449,
          640.2978723404256,
          604.798353909465,
          851.6265060240963,
          2025.3053435114505,
          1356.6,
          1713.6,
          1071,
          809.952380952381,
          1045.5,
          1140.5,
          883.25,
          883.123076923077,
          623.0857142857143,
          1484.0263157894738,
          787.9181818181818,
          1141,
          949.1538461538462,
          4123,
          796.8,
          982.7916666666666,
          1110.3125,
          899.0878378378378,
          843.8013698630137,
          835.33,
          1183.091463414634,
          1199.296875,
          1531.5631067961165,
          1391,
          1367,
          1155.1739130434783,
          876.5633802816901,
          802.7432432432432,
          705.35,
          691.5088235294118,
          712.921052631579,
          775.3947368421053,
          1134.6016597510372,
          1690.9918699186992,
          1654.621052631579,
          348,
          848.4,
          1081.4,
          1388,
          1220.5,
          503.5,
          753.3207547169811,
          791.1525423728814,
          734.7647058823529,
          674.0365535248042,
          708.7497414684592,
          819.5915178571429,
          1245.244928625094,
          1634.1,
          1181,
          345,
          1080.6666666666667,
          948,
          798.3333333333334,
          1713.6666666666667,
          893.7142857142857,
          753.8,
          808.780487804878,
          903.758064516129,
          774.4013157894736,
          828.9793956043956,
          724.7222551928784,
          759.4016736401674,
          1264.385461501674,
          1551.982142857143,
          3340,
          1094.142857142857,
          308,
          665.5,
          1033.8181818181818,
          1509,
          987.8257575757576,
          799.0438596491229,
          770.048048048048,
          727.6311239193084,
          595.9876712328767,
          749.9105356091819,
          1062.6448343079921,
          1502.2582953806116,
          650,
          1880,
          1469.2857142857142,
          957.7592592592592,
          894.4615384615385,
          881.3435114503817,
          901.1127167630058,
          794.798418972332,
          543.4,
          759.9491193737769,
          788.5838926174497,
          1411.9166666666667,
          1183.6666666666667,
          1001,
          1768,
          282,
          947.3333333333334,
          4521,
          1222.090909090909,
          910.3838383838383,
          867.7202380952381,
          886.501187648456,
          930.4228571428572,
          1007.6556603773585,
          753.8306709265175,
          751.1371191135734,
          889.5992700729927,
          1544.8772378516624,
          1634.5,
          1420,
          260,
          549.6666666666666,
          213.6,
          487.6,
          1361.578947368421,
          791.1333333333333,
          1087.927374301676,
          881.3716814159292,
          804.21,
          841.3245614035088,
          796.9855967078189,
          660.0665926748057,
          772.2917063870352,
          1246.2484725050917,
          864.6666666666666,
          405.6,
          758,
          1111.5,
          500,
          1041.5,
          1366.8048780487804,
          958.074074074074,
          860.6,
          1033.9411764705883,
          853.2549019607843,
          866.7402597402597,
          728.9934497816594,
          764.2672750977836,
          809.3443181818182,
          1203.9776785714287,
          1402,
          343.2,
          845,
          481.5,
          1087.2,
          863.75,
          1119.4411764705883,
          1374.857142857143,
          911.2051282051282,
          914.8875,
          878.6643109540636,
          768.686230248307,
          812.9868593955322,
          878.6089285714286,
          1354.463829787234,
          892.8,
          98,
          234.5,
          2455.5,
          1094,
          1097.4736842105262,
          1010,
          994.7333333333333,
          1255.0714285714287,
          1115.578947368421,
          1010.2359550561798,
          943.9659090909091,
          628.811403508772,
          690.308962264151,
          936.4822546972861,
          997.1428571428571,
          1236.4285714285713,
          2100.5,
          1386.53125,
          1167.3,
          976.6352201257862,
          909.6781609195402,
          750.5603448275862,
          818.361581920904,
          902.7479838709677,
          1228.4579831932774,
          1720.9449541284403,
          1062.5454545454545,
          1230.8478260869565,
          710.5,
          699.2173913043479,
          988.4599156118144,
          1098.4395973154362,
          999,
          1628,
          793.2142857142857,
          280.6,
          1098.7935222672065,
          1848.9444444444443,
          4475,
          1672.3333333333333,
          864.6521739130435,
          972.5428571428571,
          1328.6504854368932,
          1018.6111111111111,
          1081.55,
          711.3214285714286,
          1150.1076923076923,
          717.4,
          1148.851851851852,
          764.0697674418604,
          896.6372549019608,
          1186.7777777777778,
          859.9166666666666,
          1153,
          895.64,
          877.375,
          1439.388888888889,
          1082.4166666666667,
          1111.9325153374234,
          883.25,
          1424.9166666666667,
          1632.076923076923
         ]
        }
       ],
       "layout": {
        "coloraxis": {
         "cmax": 1300,
         "cmin": 600,
         "colorbar": {
          "title": {
           "text": "z"
          }
         },
         "colorscale": [
          [
           0,
           "#0d0887"
          ],
          [
           0.1111111111111111,
           "#46039f"
          ],
          [
           0.2222222222222222,
           "#7201a8"
          ],
          [
           0.3333333333333333,
           "#9c179e"
          ],
          [
           0.4444444444444444,
           "#bd3786"
          ],
          [
           0.5555555555555556,
           "#d8576b"
          ],
          [
           0.6666666666666666,
           "#ed7953"
          ],
          [
           0.7777777777777778,
           "#fb9f3a"
          ],
          [
           0.8888888888888888,
           "#fdca26"
          ],
          [
           1,
           "#f0f921"
          ]
         ]
        },
        "legend": {
         "tracegroupgap": 0
        },
        "mapbox": {
         "center": {
          "lat": 41.85,
          "lon": -87.71
         },
         "domain": {
          "x": [
           0,
           1
          ],
          "y": [
           0,
           1
          ]
         },
         "style": "open-street-map",
         "zoom": 8.5
        },
        "margin": {
         "t": 60
        },
        "template": {
         "data": {
          "bar": [
           {
            "error_x": {
             "color": "#2a3f5f"
            },
            "error_y": {
             "color": "#2a3f5f"
            },
            "marker": {
             "line": {
              "color": "#E5ECF6",
              "width": 0.5
             },
             "pattern": {
              "fillmode": "overlay",
              "size": 10,
              "solidity": 0.2
             }
            },
            "type": "bar"
           }
          ],
          "barpolar": [
           {
            "marker": {
             "line": {
              "color": "#E5ECF6",
              "width": 0.5
             },
             "pattern": {
              "fillmode": "overlay",
              "size": 10,
              "solidity": 0.2
             }
            },
            "type": "barpolar"
           }
          ],
          "carpet": [
           {
            "aaxis": {
             "endlinecolor": "#2a3f5f",
             "gridcolor": "white",
             "linecolor": "white",
             "minorgridcolor": "white",
             "startlinecolor": "#2a3f5f"
            },
            "baxis": {
             "endlinecolor": "#2a3f5f",
             "gridcolor": "white",
             "linecolor": "white",
             "minorgridcolor": "white",
             "startlinecolor": "#2a3f5f"
            },
            "type": "carpet"
           }
          ],
          "choropleth": [
           {
            "colorbar": {
             "outlinewidth": 0,
             "ticks": ""
            },
            "type": "choropleth"
           }
          ],
          "contour": [
           {
            "colorbar": {
             "outlinewidth": 0,
             "ticks": ""
            },
            "colorscale": [
             [
              0,
              "#0d0887"
             ],
             [
              0.1111111111111111,
              "#46039f"
             ],
             [
              0.2222222222222222,
              "#7201a8"
             ],
             [
              0.3333333333333333,
              "#9c179e"
             ],
             [
              0.4444444444444444,
              "#bd3786"
             ],
             [
              0.5555555555555556,
              "#d8576b"
             ],
             [
              0.6666666666666666,
              "#ed7953"
             ],
             [
              0.7777777777777778,
              "#fb9f3a"
             ],
             [
              0.8888888888888888,
              "#fdca26"
             ],
             [
              1,
              "#f0f921"
             ]
            ],
            "type": "contour"
           }
          ],
          "contourcarpet": [
           {
            "colorbar": {
             "outlinewidth": 0,
             "ticks": ""
            },
            "type": "contourcarpet"
           }
          ],
          "heatmap": [
           {
            "colorbar": {
             "outlinewidth": 0,
             "ticks": ""
            },
            "colorscale": [
             [
              0,
              "#0d0887"
             ],
             [
              0.1111111111111111,
              "#46039f"
             ],
             [
              0.2222222222222222,
              "#7201a8"
             ],
             [
              0.3333333333333333,
              "#9c179e"
             ],
             [
              0.4444444444444444,
              "#bd3786"
             ],
             [
              0.5555555555555556,
              "#d8576b"
             ],
             [
              0.6666666666666666,
              "#ed7953"
             ],
             [
              0.7777777777777778,
              "#fb9f3a"
             ],
             [
              0.8888888888888888,
              "#fdca26"
             ],
             [
              1,
              "#f0f921"
             ]
            ],
            "type": "heatmap"
           }
          ],
          "heatmapgl": [
           {
            "colorbar": {
             "outlinewidth": 0,
             "ticks": ""
            },
            "colorscale": [
             [
              0,
              "#0d0887"
             ],
             [
              0.1111111111111111,
              "#46039f"
             ],
             [
              0.2222222222222222,
              "#7201a8"
             ],
             [
              0.3333333333333333,
              "#9c179e"
             ],
             [
              0.4444444444444444,
              "#bd3786"
             ],
             [
              0.5555555555555556,
              "#d8576b"
             ],
             [
              0.6666666666666666,
              "#ed7953"
             ],
             [
              0.7777777777777778,
              "#fb9f3a"
             ],
             [
              0.8888888888888888,
              "#fdca26"
             ],
             [
              1,
              "#f0f921"
             ]
            ],
            "type": "heatmapgl"
           }
          ],
          "histogram": [
           {
            "marker": {
             "pattern": {
              "fillmode": "overlay",
              "size": 10,
              "solidity": 0.2
             }
            },
            "type": "histogram"
           }
          ],
          "histogram2d": [
           {
            "colorbar": {
             "outlinewidth": 0,
             "ticks": ""
            },
            "colorscale": [
             [
              0,
              "#0d0887"
             ],
             [
              0.1111111111111111,
              "#46039f"
             ],
             [
              0.2222222222222222,
              "#7201a8"
             ],
             [
              0.3333333333333333,
              "#9c179e"
             ],
             [
              0.4444444444444444,
              "#bd3786"
             ],
             [
              0.5555555555555556,
              "#d8576b"
             ],
             [
              0.6666666666666666,
              "#ed7953"
             ],
             [
              0.7777777777777778,
              "#fb9f3a"
             ],
             [
              0.8888888888888888,
              "#fdca26"
             ],
             [
              1,
              "#f0f921"
             ]
            ],
            "type": "histogram2d"
           }
          ],
          "histogram2dcontour": [
           {
            "colorbar": {
             "outlinewidth": 0,
             "ticks": ""
            },
            "colorscale": [
             [
              0,
              "#0d0887"
             ],
             [
              0.1111111111111111,
              "#46039f"
             ],
             [
              0.2222222222222222,
              "#7201a8"
             ],
             [
              0.3333333333333333,
              "#9c179e"
             ],
             [
              0.4444444444444444,
              "#bd3786"
             ],
             [
              0.5555555555555556,
              "#d8576b"
             ],
             [
              0.6666666666666666,
              "#ed7953"
             ],
             [
              0.7777777777777778,
              "#fb9f3a"
             ],
             [
              0.8888888888888888,
              "#fdca26"
             ],
             [
              1,
              "#f0f921"
             ]
            ],
            "type": "histogram2dcontour"
           }
          ],
          "mesh3d": [
           {
            "colorbar": {
             "outlinewidth": 0,
             "ticks": ""
            },
            "type": "mesh3d"
           }
          ],
          "parcoords": [
           {
            "line": {
             "colorbar": {
              "outlinewidth": 0,
              "ticks": ""
             }
            },
            "type": "parcoords"
           }
          ],
          "pie": [
           {
            "automargin": true,
            "type": "pie"
           }
          ],
          "scatter": [
           {
            "fillpattern": {
             "fillmode": "overlay",
             "size": 10,
             "solidity": 0.2
            },
            "type": "scatter"
           }
          ],
          "scatter3d": [
           {
            "line": {
             "colorbar": {
              "outlinewidth": 0,
              "ticks": ""
             }
            },
            "marker": {
             "colorbar": {
              "outlinewidth": 0,
              "ticks": ""
             }
            },
            "type": "scatter3d"
           }
          ],
          "scattercarpet": [
           {
            "marker": {
             "colorbar": {
              "outlinewidth": 0,
              "ticks": ""
             }
            },
            "type": "scattercarpet"
           }
          ],
          "scattergeo": [
           {
            "marker": {
             "colorbar": {
              "outlinewidth": 0,
              "ticks": ""
             }
            },
            "type": "scattergeo"
           }
          ],
          "scattergl": [
           {
            "marker": {
             "colorbar": {
              "outlinewidth": 0,
              "ticks": ""
             }
            },
            "type": "scattergl"
           }
          ],
          "scattermapbox": [
           {
            "marker": {
             "colorbar": {
              "outlinewidth": 0,
              "ticks": ""
             }
            },
            "type": "scattermapbox"
           }
          ],
          "scatterpolar": [
           {
            "marker": {
             "colorbar": {
              "outlinewidth": 0,
              "ticks": ""
             }
            },
            "type": "scatterpolar"
           }
          ],
          "scatterpolargl": [
           {
            "marker": {
             "colorbar": {
              "outlinewidth": 0,
              "ticks": ""
             }
            },
            "type": "scatterpolargl"
           }
          ],
          "scatterternary": [
           {
            "marker": {
             "colorbar": {
              "outlinewidth": 0,
              "ticks": ""
             }
            },
            "type": "scatterternary"
           }
          ],
          "surface": [
           {
            "colorbar": {
             "outlinewidth": 0,
             "ticks": ""
            },
            "colorscale": [
             [
              0,
              "#0d0887"
             ],
             [
              0.1111111111111111,
              "#46039f"
             ],
             [
              0.2222222222222222,
              "#7201a8"
             ],
             [
              0.3333333333333333,
              "#9c179e"
             ],
             [
              0.4444444444444444,
              "#bd3786"
             ],
             [
              0.5555555555555556,
              "#d8576b"
             ],
             [
              0.6666666666666666,
              "#ed7953"
             ],
             [
              0.7777777777777778,
              "#fb9f3a"
             ],
             [
              0.8888888888888888,
              "#fdca26"
             ],
             [
              1,
              "#f0f921"
             ]
            ],
            "type": "surface"
           }
          ],
          "table": [
           {
            "cells": {
             "fill": {
              "color": "#EBF0F8"
             },
             "line": {
              "color": "white"
             }
            },
            "header": {
             "fill": {
              "color": "#C8D4E3"
             },
             "line": {
              "color": "white"
             }
            },
            "type": "table"
           }
          ]
         },
         "layout": {
          "annotationdefaults": {
           "arrowcolor": "#2a3f5f",
           "arrowhead": 0,
           "arrowwidth": 1
          },
          "autotypenumbers": "strict",
          "coloraxis": {
           "colorbar": {
            "outlinewidth": 0,
            "ticks": ""
           }
          },
          "colorscale": {
           "diverging": [
            [
             0,
             "#8e0152"
            ],
            [
             0.1,
             "#c51b7d"
            ],
            [
             0.2,
             "#de77ae"
            ],
            [
             0.3,
             "#f1b6da"
            ],
            [
             0.4,
             "#fde0ef"
            ],
            [
             0.5,
             "#f7f7f7"
            ],
            [
             0.6,
             "#e6f5d0"
            ],
            [
             0.7,
             "#b8e186"
            ],
            [
             0.8,
             "#7fbc41"
            ],
            [
             0.9,
             "#4d9221"
            ],
            [
             1,
             "#276419"
            ]
           ],
           "sequential": [
            [
             0,
             "#0d0887"
            ],
            [
             0.1111111111111111,
             "#46039f"
            ],
            [
             0.2222222222222222,
             "#7201a8"
            ],
            [
             0.3333333333333333,
             "#9c179e"
            ],
            [
             0.4444444444444444,
             "#bd3786"
            ],
            [
             0.5555555555555556,
             "#d8576b"
            ],
            [
             0.6666666666666666,
             "#ed7953"
            ],
            [
             0.7777777777777778,
             "#fb9f3a"
            ],
            [
             0.8888888888888888,
             "#fdca26"
            ],
            [
             1,
             "#f0f921"
            ]
           ],
           "sequentialminus": [
            [
             0,
             "#0d0887"
            ],
            [
             0.1111111111111111,
             "#46039f"
            ],
            [
             0.2222222222222222,
             "#7201a8"
            ],
            [
             0.3333333333333333,
             "#9c179e"
            ],
            [
             0.4444444444444444,
             "#bd3786"
            ],
            [
             0.5555555555555556,
             "#d8576b"
            ],
            [
             0.6666666666666666,
             "#ed7953"
            ],
            [
             0.7777777777777778,
             "#fb9f3a"
            ],
            [
             0.8888888888888888,
             "#fdca26"
            ],
            [
             1,
             "#f0f921"
            ]
           ]
          },
          "colorway": [
           "#636efa",
           "#EF553B",
           "#00cc96",
           "#ab63fa",
           "#FFA15A",
           "#19d3f3",
           "#FF6692",
           "#B6E880",
           "#FF97FF",
           "#FECB52"
          ],
          "font": {
           "color": "#2a3f5f"
          },
          "geo": {
           "bgcolor": "white",
           "lakecolor": "white",
           "landcolor": "#E5ECF6",
           "showlakes": true,
           "showland": true,
           "subunitcolor": "white"
          },
          "hoverlabel": {
           "align": "left"
          },
          "hovermode": "closest",
          "mapbox": {
           "style": "light"
          },
          "paper_bgcolor": "white",
          "plot_bgcolor": "#E5ECF6",
          "polar": {
           "angularaxis": {
            "gridcolor": "white",
            "linecolor": "white",
            "ticks": ""
           },
           "bgcolor": "#E5ECF6",
           "radialaxis": {
            "gridcolor": "white",
            "linecolor": "white",
            "ticks": ""
           }
          },
          "scene": {
           "xaxis": {
            "backgroundcolor": "#E5ECF6",
            "gridcolor": "white",
            "gridwidth": 2,
            "linecolor": "white",
            "showbackground": true,
            "ticks": "",
            "zerolinecolor": "white"
           },
           "yaxis": {
            "backgroundcolor": "#E5ECF6",
            "gridcolor": "white",
            "gridwidth": 2,
            "linecolor": "white",
            "showbackground": true,
            "ticks": "",
            "zerolinecolor": "white"
           },
           "zaxis": {
            "backgroundcolor": "#E5ECF6",
            "gridcolor": "white",
            "gridwidth": 2,
            "linecolor": "white",
            "showbackground": true,
            "ticks": "",
            "zerolinecolor": "white"
           }
          },
          "shapedefaults": {
           "line": {
            "color": "#2a3f5f"
           }
          },
          "ternary": {
           "aaxis": {
            "gridcolor": "white",
            "linecolor": "white",
            "ticks": ""
           },
           "baxis": {
            "gridcolor": "white",
            "linecolor": "white",
            "ticks": ""
           },
           "bgcolor": "#E5ECF6",
           "caxis": {
            "gridcolor": "white",
            "linecolor": "white",
            "ticks": ""
           }
          },
          "title": {
           "x": 0.05
          },
          "xaxis": {
           "automargin": true,
           "gridcolor": "white",
           "linecolor": "white",
           "ticks": "",
           "title": {
            "standoff": 15
           },
           "zerolinecolor": "white",
           "zerolinewidth": 2
          },
          "yaxis": {
           "automargin": true,
           "gridcolor": "white",
           "linecolor": "white",
           "ticks": "",
           "title": {
            "standoff": 15
           },
           "zerolinecolor": "white",
           "zerolinewidth": 2
          }
         }
        }
       }
      },
      "text/html": [
       "<div>                            <div id=\"3770dbbe-7901-4b51-b236-a6f51737507b\" class=\"plotly-graph-div\" style=\"height:525px; width:100%;\"></div>            <script type=\"text/javascript\">                require([\"plotly\"], function(Plotly) {                    window.PLOTLYENV=window.PLOTLYENV || {};                                    if (document.getElementById(\"3770dbbe-7901-4b51-b236-a6f51737507b\")) {                    Plotly.newPlot(                        \"3770dbbe-7901-4b51-b236-a6f51737507b\",                        [{\"coloraxis\":\"coloraxis\",\"hovertemplate\":\"z=%{z}<br>lat=%{lat}<br>lon=%{lon}<extra></extra>\",\"lat\":[41.64,41.65,41.65,41.65,41.68,41.68,41.68,41.68,41.69,41.69,41.69,41.69,41.69,41.69,41.69,41.69,41.69,41.69,41.7,41.7,41.7,41.7,41.7,41.7,41.7,41.71,41.71,41.71,41.71,41.71,41.71,41.71,41.71,41.71,41.72,41.72,41.72,41.72,41.72,41.730000000000004,41.730000000000004,41.730000000000004,41.730000000000004,41.730000000000004,41.730000000000004,41.730000000000004,41.74,41.74,41.74,41.74,41.74,41.74,41.74,41.74,41.75,41.75,41.75,41.75,41.75,41.75,41.75,41.75,41.75,41.75,41.75,41.76,41.76,41.76,41.76,41.76,41.76,41.76,41.76,41.76,41.76,41.77,41.77,41.77,41.77,41.77,41.77,41.77,41.77,41.77,41.78,41.78,41.78,41.78,41.78,41.78,41.78,41.78,41.78,41.78,41.78,41.78,41.78,41.78,41.79,41.79,41.79,41.79,41.79,41.79,41.79,41.79,41.79,41.79,41.79,41.79,41.79,41.800000000000004,41.800000000000004,41.800000000000004,41.800000000000004,41.800000000000004,41.800000000000004,41.800000000000004,41.800000000000004,41.800000000000004,41.800000000000004,41.800000000000004,41.800000000000004,41.800000000000004,41.800000000000004,41.81,41.81,41.81,41.81,41.81,41.81,41.81,41.81,41.81,41.81,41.82,41.82,41.82,41.82,41.82,41.82,41.82,41.82,41.82,41.82,41.83,41.83,41.83,41.83,41.83,41.83,41.83,41.83,41.83,41.84,41.84,41.84,41.84,41.84,41.84,41.84,41.84,41.84,41.84,41.84,41.85,41.85,41.85,41.85,41.85,41.85,41.85,41.85,41.85,41.85,41.85,41.85,41.86,41.86,41.86,41.86,41.86,41.86,41.86,41.86,41.86,41.86,41.86,41.86,41.87,41.87,41.87,41.87,41.87,41.87,41.87,41.87,41.87,41.87,41.87,41.87,41.87,41.88,41.88,41.88,41.88,41.88,41.88,41.88,41.88,41.88,41.88,41.88,41.88,41.88,41.88,41.88,41.88,41.88,41.89,41.89,41.89,41.89,41.89,41.89,41.89,41.89,41.89,41.89,41.89,41.89,41.89,41.89,41.89,41.9,41.9,41.9,41.9,41.9,41.9,41.9,41.9,41.9,41.9,41.9,41.910000000000004,41.910000000000004,41.910000000000004,41.910000000000004,41.910000000000004,41.910000000000004,41.910000000000004,41.910000000000004,41.910000000000004,41.910000000000004,41.910000000000004,41.910000000000004,41.910000000000004,41.910000000000004,41.910000000000004,41.910000000000004,41.92,41.92,41.92,41.92,41.92,41.92,41.92,41.92,41.92,41.92,41.92,41.92,41.92,41.92,41.92,41.92,41.93,41.93,41.93,41.93,41.93,41.93,41.93,41.93,41.93,41.93,41.93,41.93,41.93,41.93,41.93,41.93,41.94,41.94,41.94,41.94,41.94,41.94,41.94,41.94,41.94,41.94,41.94,41.94,41.94,41.94,41.94,41.95,41.95,41.95,41.95,41.95,41.95,41.95,41.95,41.95,41.95,41.95,41.95,41.95,41.95,41.95,41.96,41.96,41.96,41.96,41.96,41.96,41.96,41.96,41.96,41.96,41.96,41.96,41.97,41.97,41.97,41.97,41.97,41.97,41.980000000000004,41.980000000000004,41.980000000000004,41.980000000000004,41.980000000000004,41.980000000000004,41.99,41.99,41.99,41.99,41.99,42.0,42.0,42.0,42.0,42.01,42.01,42.01,42.01,42.02,42.02,42.03,42.03,42.04,42.04,42.050000000000004,42.050000000000004,42.06,42.06,42.06],\"lon\":[-87.55,-87.62,-87.56,-87.54,-87.66,-87.62,-87.58,-87.54,-87.72,-87.71000000000001,-87.69,-87.67,-87.65,-87.64,-87.62,-87.61,-87.60000000000001,-87.54,-87.7,-87.66,-87.65,-87.62,-87.60000000000001,-87.56,-87.53,-87.72,-87.67,-87.65,-87.63,-87.61,-87.60000000000001,-87.59,-87.57000000000001,-87.54,-87.67,-87.66,-87.63,-87.62,-87.60000000000001,-87.66,-87.65,-87.63,-87.61,-87.59,-87.55,-87.54,-87.64,-87.63,-87.61,-87.60000000000001,-87.59,-87.57000000000001,-87.56,-87.53,-87.68,-87.67,-87.63,-87.62,-87.61,-87.60000000000001,-87.59,-87.58,-87.57000000000001,-87.56,-87.55,-87.66,-87.65,-87.64,-87.63,-87.62,-87.61,-87.59,-87.58,-87.57000000000001,-87.56,-87.69,-87.67,-87.66,-87.65,-87.64,-87.61,-87.59,-87.58,-87.57000000000001,-87.73,-87.72,-87.71000000000001,-87.7,-87.68,-87.66,-87.65,-87.63,-87.62,-87.61,-87.60000000000001,-87.59,-87.58,-87.57000000000001,-87.74,-87.71000000000001,-87.7,-87.69,-87.68,-87.66,-87.65,-87.64,-87.63,-87.62,-87.61,-87.60000000000001,-87.59,-87.75,-87.73,-87.72,-87.7,-87.68,-87.67,-87.66,-87.65,-87.64,-87.62,-87.61,-87.60000000000001,-87.59,-87.58,-87.73,-87.72,-87.7,-87.69,-87.67,-87.65,-87.64,-87.62,-87.61,-87.60000000000001,-87.72,-87.7,-87.69,-87.68,-87.67,-87.66,-87.65,-87.63,-87.62,-87.61,-87.69,-87.68,-87.67,-87.66,-87.65,-87.64,-87.63,-87.62,-87.61,-87.73,-87.72,-87.71000000000001,-87.7,-87.69,-87.68,-87.66,-87.65,-87.64,-87.63,-87.62,-87.73,-87.72,-87.71000000000001,-87.7,-87.69,-87.68,-87.67,-87.66,-87.65,-87.64,-87.63,-87.62,-87.72,-87.71000000000001,-87.7,-87.69,-87.68,-87.67,-87.66,-87.65,-87.64,-87.63,-87.62,-87.61,-87.77,-87.74,-87.73,-87.72,-87.71000000000001,-87.7,-87.69,-87.68,-87.67,-87.66,-87.65,-87.64,-87.63,-87.78,-87.77,-87.76,-87.75,-87.74,-87.73,-87.72,-87.71000000000001,-87.7,-87.69,-87.68,-87.67,-87.66,-87.65,-87.64,-87.63,-87.62,-87.78,-87.77,-87.76,-87.72,-87.71000000000001,-87.7,-87.69,-87.68,-87.67,-87.66,-87.65,-87.64,-87.63,-87.62,-87.61,-87.73,-87.72,-87.71000000000001,-87.7,-87.69,-87.68,-87.67,-87.66,-87.65,-87.64,-87.63,-87.81,-87.8,-87.77,-87.75,-87.74,-87.73,-87.72,-87.71000000000001,-87.7,-87.69,-87.68,-87.67,-87.66,-87.65,-87.64,-87.63,-87.8,-87.78,-87.77,-87.76,-87.75,-87.74,-87.73,-87.72,-87.71000000000001,-87.7,-87.69,-87.68,-87.67,-87.66,-87.65,-87.64,-87.8,-87.79,-87.78,-87.76,-87.75,-87.74,-87.73,-87.72,-87.71000000000001,-87.7,-87.69,-87.68,-87.67,-87.66,-87.65,-87.64,-87.82000000000001,-87.79,-87.77,-87.76,-87.75,-87.74,-87.72,-87.71000000000001,-87.7,-87.69,-87.68,-87.67,-87.66,-87.65,-87.64,-87.81,-87.79,-87.78,-87.76,-87.75,-87.74,-87.73,-87.72,-87.71000000000001,-87.7,-87.69,-87.68,-87.67,-87.66,-87.65,-87.75,-87.74,-87.73,-87.72,-87.71000000000001,-87.7,-87.69,-87.68,-87.67,-87.66,-87.65,-87.64,-87.71000000000001,-87.7,-87.69,-87.68,-87.67,-87.66,-87.72,-87.71000000000001,-87.7,-87.69,-87.67,-87.66,-87.71000000000001,-87.7,-87.69,-87.68,-87.67,-87.7,-87.69,-87.68,-87.67,-87.7,-87.69,-87.68,-87.67,-87.69,-87.67,-87.7,-87.68,-87.7,-87.69,-87.69,-87.68,-87.72,-87.7,-87.69],\"name\":\"\",\"radius\":10,\"subplot\":\"mapbox\",\"z\":[1507.0,2667.0,1508.0,3095.0,205.5,2814.0,2401.6666666666665,29.0,4520.0,1885.0,828.6666666666666,894.0,1269.0,1587.0,1064.5,153.0,1173.5,1758.8,1955.0,56.0,1306.0,716.0,415.0,27.0,3743.5,1288.0,826.0,1375.0,399.0,1087.8333333333333,2937.5,18.0,518.0,691.0,1489.0,2427.0,680.5555555555555,2910.0,1646.0,244.0,304.0,677.4285714285714,1139.0,615.1666666666666,1296.0,678.0,1045.3333333333333,1982.0,735.0,1262.0,305.0,752.5,292.0,736.0,1996.5,153.0,867.1666666666666,1437.4,912.0,2939.25,905.0,1268.5,1975.6,660.0,1278.5,1170.6,984.0,247.0,854.5,512.0,1013.0,599.0,628.4,1050.2,1152.0,1209.0,902.0,244.0,319.4,350.3333333333333,1168.0,1082.7142857142858,1991.5714285714287,2220.125,1129.0,2059.0,788.0,239.0,650.0,788.0,556.0,1160.2,1975.6363636363637,525.934725848564,979.7777777777778,855.1935483870968,2541.75,2499.0,16.0,6163.0,613.3333333333334,346.5,5984.0,1019.3333333333334,209.0,1120.4,885.6666666666666,898.0869565217391,559.2342657342657,691.8540856031128,1549.096866096866,388.25,1362.5,414.42857142857144,696.0,1598.2,1029.4,234.0,1326.25,584.2222222222222,1039.8461538461538,1241.6571428571428,1246.7619047619048,1216.178947368421,1044.75,306.75,286.0,1175.0,1208.0,443.5,1469.4,3020.5,971.0769230769231,1274.7,1597.3,968.6666666666666,11.0,1671.1739130434783,1361.6,7.0,1029.0,674.0,377.4,1276.4285714285713,1638.6875,486.0,795.2307692307693,851.7142857142857,963.3191489361702,813.6413793103449,640.2978723404256,604.798353909465,851.6265060240963,2025.3053435114505,1356.6,1713.6,1071.0,809.952380952381,1045.5,1140.5,883.25,883.123076923077,623.0857142857143,1484.0263157894738,787.9181818181818,1141.0,949.1538461538462,4123.0,796.8,982.7916666666666,1110.3125,899.0878378378378,843.8013698630137,835.33,1183.091463414634,1199.296875,1531.5631067961165,1391.0,1367.0,1155.1739130434783,876.5633802816901,802.7432432432432,705.35,691.5088235294118,712.921052631579,775.3947368421053,1134.6016597510372,1690.9918699186992,1654.621052631579,348.0,848.4,1081.4,1388.0,1220.5,503.5,753.3207547169811,791.1525423728814,734.7647058823529,674.0365535248042,708.7497414684592,819.5915178571429,1245.244928625094,1634.1,1181.0,345.0,1080.6666666666667,948.0,798.3333333333334,1713.6666666666667,893.7142857142857,753.8,808.780487804878,903.758064516129,774.4013157894736,828.9793956043956,724.7222551928784,759.4016736401674,1264.385461501674,1551.982142857143,3340.0,1094.142857142857,308.0,665.5,1033.8181818181818,1509.0,987.8257575757576,799.0438596491229,770.048048048048,727.6311239193084,595.9876712328767,749.9105356091819,1062.6448343079921,1502.2582953806116,650.0,1880.0,1469.2857142857142,957.7592592592592,894.4615384615385,881.3435114503817,901.1127167630058,794.798418972332,543.4,759.9491193737769,788.5838926174497,1411.9166666666667,1183.6666666666667,1001.0,1768.0,282.0,947.3333333333334,4521.0,1222.090909090909,910.3838383838383,867.7202380952381,886.501187648456,930.4228571428572,1007.6556603773585,753.8306709265175,751.1371191135734,889.5992700729927,1544.8772378516624,1634.5,1420.0,260.0,549.6666666666666,213.6,487.6,1361.578947368421,791.1333333333333,1087.927374301676,881.3716814159292,804.21,841.3245614035088,796.9855967078189,660.0665926748057,772.2917063870352,1246.2484725050917,864.6666666666666,405.6,758.0,1111.5,500.0,1041.5,1366.8048780487804,958.074074074074,860.6,1033.9411764705883,853.2549019607843,866.7402597402597,728.9934497816594,764.2672750977836,809.3443181818182,1203.9776785714287,1402.0,343.2,845.0,481.5,1087.2,863.75,1119.4411764705883,1374.857142857143,911.2051282051282,914.8875,878.6643109540636,768.686230248307,812.9868593955322,878.6089285714286,1354.463829787234,892.8,98.0,234.5,2455.5,1094.0,1097.4736842105262,1010.0,994.7333333333333,1255.0714285714287,1115.578947368421,1010.2359550561798,943.9659090909091,628.811403508772,690.308962264151,936.4822546972861,997.1428571428571,1236.4285714285713,2100.5,1386.53125,1167.3,976.6352201257862,909.6781609195402,750.5603448275862,818.361581920904,902.7479838709677,1228.4579831932774,1720.9449541284403,1062.5454545454545,1230.8478260869565,710.5,699.2173913043479,988.4599156118144,1098.4395973154362,999.0,1628.0,793.2142857142857,280.6,1098.7935222672065,1848.9444444444443,4475.0,1672.3333333333333,864.6521739130435,972.5428571428571,1328.6504854368932,1018.6111111111111,1081.55,711.3214285714286,1150.1076923076923,717.4,1148.851851851852,764.0697674418604,896.6372549019608,1186.7777777777778,859.9166666666666,1153.0,895.64,877.375,1439.388888888889,1082.4166666666667,1111.9325153374234,883.25,1424.9166666666667,1632.076923076923],\"type\":\"densitymapbox\"}],                        {\"template\":{\"data\":{\"histogram2dcontour\":[{\"type\":\"histogram2dcontour\",\"colorbar\":{\"outlinewidth\":0,\"ticks\":\"\"},\"colorscale\":[[0.0,\"#0d0887\"],[0.1111111111111111,\"#46039f\"],[0.2222222222222222,\"#7201a8\"],[0.3333333333333333,\"#9c179e\"],[0.4444444444444444,\"#bd3786\"],[0.5555555555555556,\"#d8576b\"],[0.6666666666666666,\"#ed7953\"],[0.7777777777777778,\"#fb9f3a\"],[0.8888888888888888,\"#fdca26\"],[1.0,\"#f0f921\"]]}],\"choropleth\":[{\"type\":\"choropleth\",\"colorbar\":{\"outlinewidth\":0,\"ticks\":\"\"}}],\"histogram2d\":[{\"type\":\"histogram2d\",\"colorbar\":{\"outlinewidth\":0,\"ticks\":\"\"},\"colorscale\":[[0.0,\"#0d0887\"],[0.1111111111111111,\"#46039f\"],[0.2222222222222222,\"#7201a8\"],[0.3333333333333333,\"#9c179e\"],[0.4444444444444444,\"#bd3786\"],[0.5555555555555556,\"#d8576b\"],[0.6666666666666666,\"#ed7953\"],[0.7777777777777778,\"#fb9f3a\"],[0.8888888888888888,\"#fdca26\"],[1.0,\"#f0f921\"]]}],\"heatmap\":[{\"type\":\"heatmap\",\"colorbar\":{\"outlinewidth\":0,\"ticks\":\"\"},\"colorscale\":[[0.0,\"#0d0887\"],[0.1111111111111111,\"#46039f\"],[0.2222222222222222,\"#7201a8\"],[0.3333333333333333,\"#9c179e\"],[0.4444444444444444,\"#bd3786\"],[0.5555555555555556,\"#d8576b\"],[0.6666666666666666,\"#ed7953\"],[0.7777777777777778,\"#fb9f3a\"],[0.8888888888888888,\"#fdca26\"],[1.0,\"#f0f921\"]]}],\"heatmapgl\":[{\"type\":\"heatmapgl\",\"colorbar\":{\"outlinewidth\":0,\"ticks\":\"\"},\"colorscale\":[[0.0,\"#0d0887\"],[0.1111111111111111,\"#46039f\"],[0.2222222222222222,\"#7201a8\"],[0.3333333333333333,\"#9c179e\"],[0.4444444444444444,\"#bd3786\"],[0.5555555555555556,\"#d8576b\"],[0.6666666666666666,\"#ed7953\"],[0.7777777777777778,\"#fb9f3a\"],[0.8888888888888888,\"#fdca26\"],[1.0,\"#f0f921\"]]}],\"contourcarpet\":[{\"type\":\"contourcarpet\",\"colorbar\":{\"outlinewidth\":0,\"ticks\":\"\"}}],\"contour\":[{\"type\":\"contour\",\"colorbar\":{\"outlinewidth\":0,\"ticks\":\"\"},\"colorscale\":[[0.0,\"#0d0887\"],[0.1111111111111111,\"#46039f\"],[0.2222222222222222,\"#7201a8\"],[0.3333333333333333,\"#9c179e\"],[0.4444444444444444,\"#bd3786\"],[0.5555555555555556,\"#d8576b\"],[0.6666666666666666,\"#ed7953\"],[0.7777777777777778,\"#fb9f3a\"],[0.8888888888888888,\"#fdca26\"],[1.0,\"#f0f921\"]]}],\"surface\":[{\"type\":\"surface\",\"colorbar\":{\"outlinewidth\":0,\"ticks\":\"\"},\"colorscale\":[[0.0,\"#0d0887\"],[0.1111111111111111,\"#46039f\"],[0.2222222222222222,\"#7201a8\"],[0.3333333333333333,\"#9c179e\"],[0.4444444444444444,\"#bd3786\"],[0.5555555555555556,\"#d8576b\"],[0.6666666666666666,\"#ed7953\"],[0.7777777777777778,\"#fb9f3a\"],[0.8888888888888888,\"#fdca26\"],[1.0,\"#f0f921\"]]}],\"mesh3d\":[{\"type\":\"mesh3d\",\"colorbar\":{\"outlinewidth\":0,\"ticks\":\"\"}}],\"scatter\":[{\"fillpattern\":{\"fillmode\":\"overlay\",\"size\":10,\"solidity\":0.2},\"type\":\"scatter\"}],\"parcoords\":[{\"type\":\"parcoords\",\"line\":{\"colorbar\":{\"outlinewidth\":0,\"ticks\":\"\"}}}],\"scatterpolargl\":[{\"type\":\"scatterpolargl\",\"marker\":{\"colorbar\":{\"outlinewidth\":0,\"ticks\":\"\"}}}],\"bar\":[{\"error_x\":{\"color\":\"#2a3f5f\"},\"error_y\":{\"color\":\"#2a3f5f\"},\"marker\":{\"line\":{\"color\":\"#E5ECF6\",\"width\":0.5},\"pattern\":{\"fillmode\":\"overlay\",\"size\":10,\"solidity\":0.2}},\"type\":\"bar\"}],\"scattergeo\":[{\"type\":\"scattergeo\",\"marker\":{\"colorbar\":{\"outlinewidth\":0,\"ticks\":\"\"}}}],\"scatterpolar\":[{\"type\":\"scatterpolar\",\"marker\":{\"colorbar\":{\"outlinewidth\":0,\"ticks\":\"\"}}}],\"histogram\":[{\"marker\":{\"pattern\":{\"fillmode\":\"overlay\",\"size\":10,\"solidity\":0.2}},\"type\":\"histogram\"}],\"scattergl\":[{\"type\":\"scattergl\",\"marker\":{\"colorbar\":{\"outlinewidth\":0,\"ticks\":\"\"}}}],\"scatter3d\":[{\"type\":\"scatter3d\",\"line\":{\"colorbar\":{\"outlinewidth\":0,\"ticks\":\"\"}},\"marker\":{\"colorbar\":{\"outlinewidth\":0,\"ticks\":\"\"}}}],\"scattermapbox\":[{\"type\":\"scattermapbox\",\"marker\":{\"colorbar\":{\"outlinewidth\":0,\"ticks\":\"\"}}}],\"scatterternary\":[{\"type\":\"scatterternary\",\"marker\":{\"colorbar\":{\"outlinewidth\":0,\"ticks\":\"\"}}}],\"scattercarpet\":[{\"type\":\"scattercarpet\",\"marker\":{\"colorbar\":{\"outlinewidth\":0,\"ticks\":\"\"}}}],\"carpet\":[{\"aaxis\":{\"endlinecolor\":\"#2a3f5f\",\"gridcolor\":\"white\",\"linecolor\":\"white\",\"minorgridcolor\":\"white\",\"startlinecolor\":\"#2a3f5f\"},\"baxis\":{\"endlinecolor\":\"#2a3f5f\",\"gridcolor\":\"white\",\"linecolor\":\"white\",\"minorgridcolor\":\"white\",\"startlinecolor\":\"#2a3f5f\"},\"type\":\"carpet\"}],\"table\":[{\"cells\":{\"fill\":{\"color\":\"#EBF0F8\"},\"line\":{\"color\":\"white\"}},\"header\":{\"fill\":{\"color\":\"#C8D4E3\"},\"line\":{\"color\":\"white\"}},\"type\":\"table\"}],\"barpolar\":[{\"marker\":{\"line\":{\"color\":\"#E5ECF6\",\"width\":0.5},\"pattern\":{\"fillmode\":\"overlay\",\"size\":10,\"solidity\":0.2}},\"type\":\"barpolar\"}],\"pie\":[{\"automargin\":true,\"type\":\"pie\"}]},\"layout\":{\"autotypenumbers\":\"strict\",\"colorway\":[\"#636efa\",\"#EF553B\",\"#00cc96\",\"#ab63fa\",\"#FFA15A\",\"#19d3f3\",\"#FF6692\",\"#B6E880\",\"#FF97FF\",\"#FECB52\"],\"font\":{\"color\":\"#2a3f5f\"},\"hovermode\":\"closest\",\"hoverlabel\":{\"align\":\"left\"},\"paper_bgcolor\":\"white\",\"plot_bgcolor\":\"#E5ECF6\",\"polar\":{\"bgcolor\":\"#E5ECF6\",\"angularaxis\":{\"gridcolor\":\"white\",\"linecolor\":\"white\",\"ticks\":\"\"},\"radialaxis\":{\"gridcolor\":\"white\",\"linecolor\":\"white\",\"ticks\":\"\"}},\"ternary\":{\"bgcolor\":\"#E5ECF6\",\"aaxis\":{\"gridcolor\":\"white\",\"linecolor\":\"white\",\"ticks\":\"\"},\"baxis\":{\"gridcolor\":\"white\",\"linecolor\":\"white\",\"ticks\":\"\"},\"caxis\":{\"gridcolor\":\"white\",\"linecolor\":\"white\",\"ticks\":\"\"}},\"coloraxis\":{\"colorbar\":{\"outlinewidth\":0,\"ticks\":\"\"}},\"colorscale\":{\"sequential\":[[0.0,\"#0d0887\"],[0.1111111111111111,\"#46039f\"],[0.2222222222222222,\"#7201a8\"],[0.3333333333333333,\"#9c179e\"],[0.4444444444444444,\"#bd3786\"],[0.5555555555555556,\"#d8576b\"],[0.6666666666666666,\"#ed7953\"],[0.7777777777777778,\"#fb9f3a\"],[0.8888888888888888,\"#fdca26\"],[1.0,\"#f0f921\"]],\"sequentialminus\":[[0.0,\"#0d0887\"],[0.1111111111111111,\"#46039f\"],[0.2222222222222222,\"#7201a8\"],[0.3333333333333333,\"#9c179e\"],[0.4444444444444444,\"#bd3786\"],[0.5555555555555556,\"#d8576b\"],[0.6666666666666666,\"#ed7953\"],[0.7777777777777778,\"#fb9f3a\"],[0.8888888888888888,\"#fdca26\"],[1.0,\"#f0f921\"]],\"diverging\":[[0,\"#8e0152\"],[0.1,\"#c51b7d\"],[0.2,\"#de77ae\"],[0.3,\"#f1b6da\"],[0.4,\"#fde0ef\"],[0.5,\"#f7f7f7\"],[0.6,\"#e6f5d0\"],[0.7,\"#b8e186\"],[0.8,\"#7fbc41\"],[0.9,\"#4d9221\"],[1,\"#276419\"]]},\"xaxis\":{\"gridcolor\":\"white\",\"linecolor\":\"white\",\"ticks\":\"\",\"title\":{\"standoff\":15},\"zerolinecolor\":\"white\",\"automargin\":true,\"zerolinewidth\":2},\"yaxis\":{\"gridcolor\":\"white\",\"linecolor\":\"white\",\"ticks\":\"\",\"title\":{\"standoff\":15},\"zerolinecolor\":\"white\",\"automargin\":true,\"zerolinewidth\":2},\"scene\":{\"xaxis\":{\"backgroundcolor\":\"#E5ECF6\",\"gridcolor\":\"white\",\"linecolor\":\"white\",\"showbackground\":true,\"ticks\":\"\",\"zerolinecolor\":\"white\",\"gridwidth\":2},\"yaxis\":{\"backgroundcolor\":\"#E5ECF6\",\"gridcolor\":\"white\",\"linecolor\":\"white\",\"showbackground\":true,\"ticks\":\"\",\"zerolinecolor\":\"white\",\"gridwidth\":2},\"zaxis\":{\"backgroundcolor\":\"#E5ECF6\",\"gridcolor\":\"white\",\"linecolor\":\"white\",\"showbackground\":true,\"ticks\":\"\",\"zerolinecolor\":\"white\",\"gridwidth\":2}},\"shapedefaults\":{\"line\":{\"color\":\"#2a3f5f\"}},\"annotationdefaults\":{\"arrowcolor\":\"#2a3f5f\",\"arrowhead\":0,\"arrowwidth\":1},\"geo\":{\"bgcolor\":\"white\",\"landcolor\":\"#E5ECF6\",\"subunitcolor\":\"white\",\"showland\":true,\"showlakes\":true,\"lakecolor\":\"white\"},\"title\":{\"x\":0.05},\"mapbox\":{\"style\":\"light\"}}},\"mapbox\":{\"domain\":{\"x\":[0.0,1.0],\"y\":[0.0,1.0]},\"center\":{\"lat\":41.85,\"lon\":-87.71},\"zoom\":8.5,\"style\":\"open-street-map\"},\"coloraxis\":{\"colorbar\":{\"title\":{\"text\":\"z\"}},\"colorscale\":[[0.0,\"#0d0887\"],[0.1111111111111111,\"#46039f\"],[0.2222222222222222,\"#7201a8\"],[0.3333333333333333,\"#9c179e\"],[0.4444444444444444,\"#bd3786\"],[0.5555555555555556,\"#d8576b\"],[0.6666666666666666,\"#ed7953\"],[0.7777777777777778,\"#fb9f3a\"],[0.8888888888888888,\"#fdca26\"],[1.0,\"#f0f921\"]],\"cmin\":600,\"cmax\":1300},\"legend\":{\"tracegroupgap\":0},\"margin\":{\"t\":60}},                        {\"responsive\": true}                    ).then(function(){\n",
       "                            \n",
       "var gd = document.getElementById('3770dbbe-7901-4b51-b236-a6f51737507b');\n",
       "var x = new MutationObserver(function (mutations, observer) {{\n",
       "        var display = window.getComputedStyle(gd).display;\n",
       "        if (!display || display === 'none') {{\n",
       "            console.log([gd, 'removed!']);\n",
       "            Plotly.purge(gd);\n",
       "            observer.disconnect();\n",
       "        }}\n",
       "}});\n",
       "\n",
       "// Listen for the removal of the full notebook cells\n",
       "var notebookContainer = gd.closest('#notebook-container');\n",
       "if (notebookContainer) {{\n",
       "    x.observe(notebookContainer, {childList: true});\n",
       "}}\n",
       "\n",
       "// Listen for the clearing of the current output cell\n",
       "var outputEl = gd.closest('.output');\n",
       "if (outputEl) {{\n",
       "    x.observe(outputEl, {childList: true});\n",
       "}}\n",
       "\n",
       "                        })                };                });            </script>        </div>"
      ]
     },
     "metadata": {},
     "output_type": "display_data"
    }
   ],
   "source": [
    "import plotly.express as px\n",
    "\n",
    "# Data with latitude/longitude and values\n",
    "df = pd.read_csv('https://raw.githubusercontent.com/R-CoderDotCom/data/main/sample_datasets/population_galicia.csv')\n",
    "\n",
    "fig = px.density_mapbox(lat = list(zip(*data.index))[0], lon = list(zip(*data.index))[1], z = data.values,\n",
    "                        radius = 10,\n",
    "                        center = dict(lat = 41.85, lon = -87.71),\n",
    "                        zoom = 8.5,\n",
    "                        mapbox_style = 'open-street-map',\n",
    "                        range_color=[600, 1300])\n",
    "fig.show()"
   ]
  },
  {
   "cell_type": "code",
   "execution_count": 24,
   "id": "a29d853d",
   "metadata": {},
   "outputs": [],
   "source": [
    "step = 0.1\n",
    "to_bin = lambda x: np.floor(x / step) * step\n",
    "divvy[\"latlon\"] = tuple(zip(to_bin(divvy.start_lat),to_bin(divvy.start_lng)))"
   ]
  },
  {
   "cell_type": "code",
   "execution_count": null,
   "id": "ac77590f",
   "metadata": {},
   "outputs": [],
   "source": [
    "order = divvy['latlon'].value_counts().index\n",
    "coord_dict = {order[i]:i for i in range(len(order))}\n",
    "divvy['dense_ord'] = divvy['latlon'].apply(lambda x: coord_dict[x])"
   ]
  },
  {
   "cell_type": "code",
   "execution_count": null,
   "id": "c7dac914",
   "metadata": {},
   "outputs": [],
   "source": [
    "\n",
    "img = plt.imread(\"chicago.jpg\")\n",
    "fig,ax = plt.subplots(figsize=(10,100),dpi = 80)\n",
    "fig.set_size_inches(7,10)\n",
    "ax.imshow(img,extent=[-88.02,-87.34,41.58,42.1])\n",
    "for x in order:\n",
    "    value = coord_dict[x] + 1\n",
    "    text = f\"{value}\"\n",
    "    ax.text(x[1] + 0.05, x[0] + 0.05, text, color='white', fontsize=15,bbox=dict(alpha = 0.7,facecolor='black', edgecolor='none', boxstyle='round,pad=0.3'))\n",
    "plt.xlim(-88,-87.5)\n",
    "plt.ylim(41.6,42.1)\n",
    "plt.xlabel(\"Longitude\")\n",
    "plt.ylabel(\"Latitude\")"
   ]
  },
  {
   "cell_type": "code",
   "execution_count": null,
   "id": "e9fc4dda",
   "metadata": {},
   "outputs": [],
   "source": [
    "a = sns.FacetGrid(divvy, col = 'dense_ord',col_wrap=3, height=3.5,aspect = 1,sharex=False, sharey=False)\n",
    "a.map(plt.hist, \"trip_duration\", bins=50, color='skyblue', edgecolor='black')\n",
    "a.set_axis_labels(\"Ride duration\", \"Frequency\")\n",
    "a.add_legend()"
   ]
  },
  {
   "cell_type": "code",
   "execution_count": null,
   "id": "008c644a",
   "metadata": {},
   "outputs": [],
   "source": [
    "a = sns.FacetGrid(divvy, col = 'dense_ord',col_wrap=3, height=3.5,aspect = 1,sharex=False, sharey=False)\n",
    "a.map(plt.hist, \"start_date\", bins=50, color='skyblue', edgecolor='black')\n",
    "a.set_axis_labels(\"Sep 2021 - Oct 2022\", \"Frequency\")\n",
    "a.set_xticklabels([])\n",
    "a.add_legend()"
   ]
  },
  {
   "cell_type": "code",
   "execution_count": null,
   "id": "523d2433",
   "metadata": {},
   "outputs": [],
   "source": [
    "plt.figure(figsize=(12, 6))\n",
    "ax = sns.lineplot(x = 'dense_ord', y = 'start_dpcapacity', data = divvy)\n",
    "ax.set_xticklabels(divvy['latlon'].value_counts())\n",
    "ax.set_xlabel('Area density')\n",
    "ax.set_ylabel('Station capacity')"
   ]
  }
 ],
 "metadata": {
  "kernelspec": {
   "display_name": "Python 3 (ipykernel)",
   "language": "python",
   "name": "python3"
  },
  "language_info": {
   "codemirror_mode": {
    "name": "ipython",
    "version": 3
   },
   "file_extension": ".py",
   "mimetype": "text/x-python",
   "name": "python",
   "nbconvert_exporter": "python",
   "pygments_lexer": "ipython3",
   "version": "3.11.4"
  }
 },
 "nbformat": 4,
 "nbformat_minor": 5
}
